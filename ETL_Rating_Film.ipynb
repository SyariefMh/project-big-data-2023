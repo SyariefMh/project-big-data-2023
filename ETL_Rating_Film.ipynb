{
 "cells": [
  {
   "attachments": {},
   "cell_type": "markdown",
   "metadata": {},
   "source": [
    "Extract Data"
   ]
  },
  {
   "cell_type": "code",
   "execution_count": 62,
   "metadata": {},
   "outputs": [],
   "source": [
    "import pandas as pd\n",
    "import matplotlib.pyplot as plt\n",
    "import seaborn as sns"
   ]
  },
  {
   "cell_type": "code",
   "execution_count": 63,
   "metadata": {},
   "outputs": [
    {
     "name": "stdout",
     "output_type": "stream",
     "text": [
      "                                            title  \\\n",
      "year                                                \n",
      "2020-01-01                    #FriendButMarried 2   \n",
      "2020-01-01                               4 Mantan   \n",
      "2020-01-01               Aku Tahu Kapan Kamu Mati   \n",
      "2020-01-01                            Anak Garuda   \n",
      "2020-01-01                              Dignitate   \n",
      "2020-01-01                        Guru-Guru Gokil   \n",
      "2020-01-01  Hunter in the Blue Side of Manchester   \n",
      "2020-01-01                                  Janin   \n",
      "2020-01-01                             Mangkujiwo   \n",
      "2020-01-01                               Mariposa   \n",
      "2020-01-01    May the Devil Take You: Chapter Two   \n",
      "2020-01-01                                  Milea   \n",
      "2020-01-01     Nanti Kita Cerita Tentang Hari Ini   \n",
      "2020-01-01                              Nikah Yuk   \n",
      "2020-01-01                                Rasuk 2   \n",
      "2020-01-01                    Si Doel the Movie 3   \n",
      "2020-01-01                    Surat dari Kematian   \n",
      "2020-01-01                        Temen Kondangan   \n",
      "2020-01-01           Titus: Mystery of the Enygma   \n",
      "2020-01-01                     Toko Barang Mantan   \n",
      "\n",
      "                                                  description      genre  \\\n",
      "year                                                                       \n",
      "2020-01-01  Ayudia (Mawar De Jongh) is not satisfied enoug...  Biography   \n",
      "2020-01-01  Sara, Airin, Rachel, and Amara were accidental...   Thriller   \n",
      "2020-01-01  After apparent death, Siena is able to see sig...     Horror   \n",
      "2020-01-01  Good Morning Indonesia, a school for poor orph...  Adventure   \n",
      "2020-01-01  Alfi (Al Ghazali) meets Alana (Caitlin Halderm...      Drama   \n",
      "2020-01-01  When staff salaries get stolen at his school, ...     Comedy   \n",
      "2020-01-01  This movie tells the story of Hanif Thamrin (A...  Biography   \n",
      "2020-01-01  Randu (Reuben Elishama Hadju) and Dinar (Jill ...     Horror   \n",
      "2020-01-01  A born of Kuntilanak from a Twin Mirror with h...     Horror   \n",
      "2020-01-01  Iqbal (Angga Yunanda) is like a Mariposa butte...      Drama   \n",
      "2020-01-01  Two years after escaping from demonic terror, ...     Horror   \n",
      "2020-01-01  Milea made the decision to part with Dilan as ...      Drama   \n",
      "2020-01-01  Three siblings live in happy-looking families,...      Drama   \n",
      "2020-01-01  Arya (Marcell Darwin) is asked by his parents ...      Drama   \n",
      "2020-01-01  Isabella (Nikita Willy), a medical student who...     Horror   \n",
      "2020-01-01  The return of Sarah with his son, Dul, to Jaka...      Drama   \n",
      "2020-01-01  Failing to prove the urban legend of Mbak Roha...     Horror   \n",
      "2020-01-01  Putri (Prisia Nasution) is challenged to atten...     Comedy   \n",
      "2020-01-01  A mouse-detective with his rabbit and lizard f...  Animation   \n",
      "2020-01-01  Tristan (Reza Rahadian) is the owner of the sh...     Comedy   \n",
      "\n",
      "           rating  users_rating votes   languages                  directors  \\\n",
      "year                                                                           \n",
      "2020-01-01    13+           6.5   120  Indonesian              Rako Prijanto   \n",
      "2020-01-01    17+           6.4     8  Indonesian              Hanny Saputra   \n",
      "2020-01-01    13+           5.4    17  Indonesian          Hadrah Daeng Ratu   \n",
      "2020-01-01    13+           9.1    27  Indonesian               Faozan Rizal   \n",
      "2020-01-01    17+           7.6    33  Indonesian               Fajar Nugros   \n",
      "2020-01-01    NaN           6.1   153  Indonesian       Sammaria Simanjuntak   \n",
      "2020-01-01    13+           6.2    21     English              Rako Prijanto   \n",
      "2020-01-01    17+           6.1     7  Indonesian               Ook Budiyono   \n",
      "2020-01-01    17+           5.9    67  Indonesian          Azhar Kinoi Lubis   \n",
      "2020-01-01    13+           8.5    54  Indonesian              Fajar Bustomi   \n",
      "2020-01-01    17+           6.3   150  Indonesian             Timo Tjahjanto   \n",
      "2020-01-01    13+           6.1   239  Indonesian                  Pidi Baiq   \n",
      "2020-01-01    13+           7.5   678  Indonesian      Angga Dwimas Sasongko   \n",
      "2020-01-01    13+           6.9    15  Indonesian          Adhe Dharmastriya   \n",
      "2020-01-01    17+           6.4     9  Indonesian            Rizal Mantovani   \n",
      "2020-01-01    13+           7.2    82  Indonesian                 Rano Karno   \n",
      "2020-01-01    NaN           6.2     5  Indonesian              Hestu Saputra   \n",
      "2020-01-01    NaN           6.0    11  Indonesian          Iip Sariful Hanan   \n",
      "2020-01-01     SU           6.2    10  Indonesian  Dineshkumar Subashchandra   \n",
      "2020-01-01    13+           6.3    71  Indonesian                 Viva Westi   \n",
      "\n",
      "                                                       actors  runtime  \n",
      "year                                                                    \n",
      "2020-01-01  ['Adipati Dolken', 'Mawar Eva de Jongh', 'Vonn...  100 min  \n",
      "2020-01-01  ['Ranty Maria', 'Jeff Smith', 'Melanie Berentz...   80 min  \n",
      "2020-01-01  ['Natasha Wilona', 'Ria Ricis', 'Al Ghazali', ...   92 min  \n",
      "2020-01-01  ['Tissa Biani Azzahra', 'Violla Georgie', 'Aji...  129 min  \n",
      "2020-01-01  ['Al Ghazali', 'Caitlin Halderman', 'Giorgino ...  109 min  \n",
      "2020-01-01  ['Gading Marten', 'Boris Bokir', 'Kevin Ardilo...  101 min  \n",
      "2020-01-01  ['Adipati Dolken', 'Ganindra Bimo', 'Vonny Cor...   90 min  \n",
      "2020-01-01  ['Jill Gladys', 'Reuben Elishama', 'Meriam Bel...   85 min  \n",
      "2020-01-01  ['Sujiwo Tejo', 'Yasamin Jasem', 'Asmara Abiga...  109 min  \n",
      "2020-01-01  ['Angga Yunanda', 'Adhisty Zara', 'Dannia Sals...  117 min  \n",
      "2020-01-01  ['Chelsea Islan', 'Widika Sidmore', 'Baskara M...  110 min  \n",
      "2020-01-01  ['Iqbaal Dhiafakhri Ramadhan', 'Vanesha Presci...  102 min  \n",
      "2020-01-01  ['Rio Dewanto', 'Sheila Dara Aisha', 'Rachel A...  121 min  \n",
      "2020-01-01  ['Yuki Kato', 'Marcell Darwin', 'Aliyah Faizah...   94 min  \n",
      "2020-01-01  ['Nikita Willy', 'Achmad Megantara', 'Asri Wel...   95 min  \n",
      "2020-01-01  ['Rano Karno', 'Maudy Koesnaedi', 'Cornelia Ag...   93 min  \n",
      "2020-01-01  ['Carissa Perusset', 'Endy Arfian', 'Jerome Ku...   86 min  \n",
      "2020-01-01  ['Prisia Nasution', 'Gading Marten', 'Kevin Ju...   86 min  \n",
      "2020-01-01  ['Arbani Yasiz', 'Ranty Maria', 'Lukman Sardi'...   95 min  \n",
      "2020-01-01  ['Reza Rahadian', 'Marsha Timothy', 'Iedil Dzu...   98 min  \n"
     ]
    }
   ],
   "source": [
    "df = pd.read_csv('indonesian_movies.csv', parse_dates=['year'], index_col='year')\n",
    "df = df.loc['2020']\n",
    "print(df)"
   ]
  },
  {
   "attachments": {},
   "cell_type": "markdown",
   "metadata": {},
   "source": [
    "Transform Data"
   ]
  },
  {
   "cell_type": "code",
   "execution_count": 64,
   "metadata": {},
   "outputs": [],
   "source": [
    "df = df.groupby(['title','genre']).sum()\n",
    "df = df.reset_index()\n",
    "df = df.pivot(index='title', columns='genre', values='users_rating')"
   ]
  },
  {
   "attachments": {},
   "cell_type": "markdown",
   "metadata": {},
   "source": [
    "Load Data"
   ]
  },
  {
   "cell_type": "code",
   "execution_count": 65,
   "metadata": {},
   "outputs": [],
   "source": [
    "df.to_csv('HasilETL.csv', index=False)"
   ]
  },
  {
   "attachments": {},
   "cell_type": "markdown",
   "metadata": {},
   "source": [
    "Hasil dari ETL"
   ]
  },
  {
   "cell_type": "code",
   "execution_count": 66,
   "metadata": {},
   "outputs": [
    {
     "name": "stdout",
     "output_type": "stream",
     "text": [
      "    Adventure  Animation  Biography  Comedy  Drama  Horror  Thriller\n",
      "0         NaN        NaN        6.5     NaN    NaN     NaN       NaN\n",
      "1         NaN        NaN        NaN     NaN    NaN     NaN       6.4\n",
      "2         NaN        NaN        NaN     NaN    NaN     5.4       NaN\n",
      "3         9.1        NaN        NaN     NaN    NaN     NaN       NaN\n",
      "4         NaN        NaN        NaN     NaN    7.6     NaN       NaN\n",
      "5         NaN        NaN        NaN     6.1    NaN     NaN       NaN\n",
      "6         NaN        NaN        6.2     NaN    NaN     NaN       NaN\n",
      "7         NaN        NaN        NaN     NaN    NaN     6.1       NaN\n",
      "8         NaN        NaN        NaN     NaN    NaN     5.9       NaN\n",
      "9         NaN        NaN        NaN     NaN    8.5     NaN       NaN\n",
      "10        NaN        NaN        NaN     NaN    NaN     6.3       NaN\n",
      "11        NaN        NaN        NaN     NaN    6.1     NaN       NaN\n",
      "12        NaN        NaN        NaN     NaN    7.5     NaN       NaN\n",
      "13        NaN        NaN        NaN     NaN    6.9     NaN       NaN\n",
      "14        NaN        NaN        NaN     NaN    NaN     6.4       NaN\n",
      "15        NaN        NaN        NaN     NaN    7.2     NaN       NaN\n",
      "16        NaN        NaN        NaN     NaN    NaN     6.2       NaN\n",
      "17        NaN        NaN        NaN     6.0    NaN     NaN       NaN\n",
      "18        NaN        6.2        NaN     NaN    NaN     NaN       NaN\n",
      "19        NaN        NaN        NaN     6.3    NaN     NaN       NaN\n"
     ]
    }
   ],
   "source": [
    "df = pd.read_csv('HasilETL.csv')\n",
    "print(df)"
   ]
  }
 ],
 "metadata": {
  "kernelspec": {
   "display_name": "base",
   "language": "python",
   "name": "python3"
  },
  "language_info": {
   "codemirror_mode": {
    "name": "ipython",
    "version": 3
   },
   "file_extension": ".py",
   "mimetype": "text/x-python",
   "name": "python",
   "nbconvert_exporter": "python",
   "pygments_lexer": "ipython3",
   "version": "3.8.8"
  },
  "orig_nbformat": 4
 },
 "nbformat": 4,
 "nbformat_minor": 2
}
